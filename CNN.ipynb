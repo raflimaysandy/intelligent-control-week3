{
 "cells": [
  {
   "cell_type": "code",
   "execution_count": 1,
   "metadata": {},
   "outputs": [],
   "source": [
    "import tensorflow as tf\n",
    "from tensorflow.keras.preprocessing.image import ImageDataGenerator"
   ]
  },
  {
   "cell_type": "code",
   "execution_count": 5,
   "metadata": {},
   "outputs": [],
   "source": [
    "# Direktori dataset\n",
    "train_dir = \"intelligent-control-week3/dataset/seg_train/seg_train\"\n",
    "val_dir = \"intelligent-control-week3/dataset/seg_test/seg_test\""
   ]
  },
  {
   "cell_type": "code",
   "execution_count": 8,
   "metadata": {},
   "outputs": [
    {
     "name": "stdout",
     "output_type": "stream",
     "text": [
      "Found 14034 images belonging to 6 classes.\n",
      "Found 3000 images belonging to 6 classes.\n",
      "Epoch 1/10\n",
      "\u001b[1m439/439\u001b[0m \u001b[32m━━━━━━━━━━━━━━━━━━━━\u001b[0m\u001b[37m\u001b[0m \u001b[1m0s\u001b[0m 425ms/step - accuracy: 0.4718 - loss: 1.4180"
     ]
    },
    {
     "name": "stderr",
     "output_type": "stream",
     "text": [
      "c:\\Users\\Thinkpad X390\\AppData\\Local\\Programs\\Python\\Python311\\Lib\\site-packages\\keras\\src\\trainers\\data_adapters\\py_dataset_adapter.py:121: UserWarning: Your `PyDataset` class should call `super().__init__(**kwargs)` in its constructor. `**kwargs` can include `workers`, `use_multiprocessing`, `max_queue_size`. Do not pass these arguments to `fit()`, as they will be ignored.\n",
      "  self._warn_if_super_not_called()\n"
     ]
    },
    {
     "name": "stdout",
     "output_type": "stream",
     "text": [
      "\u001b[1m439/439\u001b[0m \u001b[32m━━━━━━━━━━━━━━━━━━━━\u001b[0m\u001b[37m\u001b[0m \u001b[1m198s\u001b[0m 447ms/step - accuracy: 0.4720 - loss: 1.4174 - val_accuracy: 0.6497 - val_loss: 0.9163\n",
      "Epoch 2/10\n",
      "\u001b[1m439/439\u001b[0m \u001b[32m━━━━━━━━━━━━━━━━━━━━\u001b[0m\u001b[37m\u001b[0m \u001b[1m211s\u001b[0m 481ms/step - accuracy: 0.6409 - loss: 0.9571 - val_accuracy: 0.6987 - val_loss: 0.8901\n",
      "Epoch 3/10\n",
      "\u001b[1m439/439\u001b[0m \u001b[32m━━━━━━━━━━━━━━━━━━━━\u001b[0m\u001b[37m\u001b[0m \u001b[1m238s\u001b[0m 543ms/step - accuracy: 0.6819 - loss: 0.8636 - val_accuracy: 0.7573 - val_loss: 0.6858\n",
      "Epoch 4/10\n",
      "\u001b[1m439/439\u001b[0m \u001b[32m━━━━━━━━━━━━━━━━━━━━\u001b[0m\u001b[37m\u001b[0m \u001b[1m188s\u001b[0m 426ms/step - accuracy: 0.7090 - loss: 0.7987 - val_accuracy: 0.7683 - val_loss: 0.6449\n",
      "Epoch 5/10\n",
      "\u001b[1m439/439\u001b[0m \u001b[32m━━━━━━━━━━━━━━━━━━━━\u001b[0m\u001b[37m\u001b[0m \u001b[1m188s\u001b[0m 429ms/step - accuracy: 0.7377 - loss: 0.7301 - val_accuracy: 0.7743 - val_loss: 0.6490\n",
      "Epoch 6/10\n",
      "\u001b[1m439/439\u001b[0m \u001b[32m━━━━━━━━━━━━━━━━━━━━\u001b[0m\u001b[37m\u001b[0m \u001b[1m191s\u001b[0m 435ms/step - accuracy: 0.7456 - loss: 0.7071 - val_accuracy: 0.7917 - val_loss: 0.5917\n",
      "Epoch 7/10\n",
      "\u001b[1m439/439\u001b[0m \u001b[32m━━━━━━━━━━━━━━━━━━━━\u001b[0m\u001b[37m\u001b[0m \u001b[1m187s\u001b[0m 425ms/step - accuracy: 0.7576 - loss: 0.6606 - val_accuracy: 0.7707 - val_loss: 0.6298\n",
      "Epoch 8/10\n",
      "\u001b[1m439/439\u001b[0m \u001b[32m━━━━━━━━━━━━━━━━━━━━\u001b[0m\u001b[37m\u001b[0m \u001b[1m187s\u001b[0m 425ms/step - accuracy: 0.7605 - loss: 0.6662 - val_accuracy: 0.8220 - val_loss: 0.4989\n",
      "Epoch 9/10\n",
      "\u001b[1m439/439\u001b[0m \u001b[32m━━━━━━━━━━━━━━━━━━━━\u001b[0m\u001b[37m\u001b[0m \u001b[1m188s\u001b[0m 429ms/step - accuracy: 0.7693 - loss: 0.6487 - val_accuracy: 0.8277 - val_loss: 0.5078\n",
      "Epoch 10/10\n",
      "\u001b[1m439/439\u001b[0m \u001b[32m━━━━━━━━━━━━━━━━━━━━\u001b[0m\u001b[37m\u001b[0m \u001b[1m188s\u001b[0m 428ms/step - accuracy: 0.7812 - loss: 0.6129 - val_accuracy: 0.8280 - val_loss: 0.5019\n"
     ]
    },
    {
     "name": "stderr",
     "output_type": "stream",
     "text": [
      "WARNING:absl:You are saving your model as an HDF5 file via `model.save()` or `keras.saving.save_model(model)`. This file format is considered legacy. We recommend using instead the native Keras format, e.g. `model.save('my_model.keras')` or `keras.saving.save_model(model, 'my_model.keras')`. \n"
     ]
    }
   ],
   "source": [
    "# Augmentasi data\n",
    "train_datagen = ImageDataGenerator(rescale=1./255, rotation_range=20, zoom_range=0.2, \n",
    "horizontal_flip=True)\n",
    "val_datagen = ImageDataGenerator(rescale=1./255)\n",
    "train_generator = train_datagen.flow_from_directory(train_dir, target_size=(150, 150), \n",
    "batch_size=32, class_mode='categorical')\n",
    "val_generator = val_datagen.flow_from_directory(val_dir, target_size=(150, 150), batch_size=32, \n",
    "class_mode='categorical')\n",
    "from tensorflow.keras.models import Sequential\n",
    "from tensorflow.keras.layers import Conv2D, MaxPooling2D, Flatten, Dense, Dropout\n",
    "\n",
    "# Definisi model CNN\n",
    "model = Sequential([\n",
    "Conv2D(32, (3,3), activation='relu', input_shape=(150, 150, 3)),\n",
    "MaxPooling2D(2,2),\n",
    "Conv2D(64, (3,3), activation='relu'),\n",
    "MaxPooling2D(2,2),\n",
    "Flatten(),\n",
    "Dense(128, activation='relu'),\n",
    "Dropout(0.5),\n",
    "Dense(6, activation='softmax')\n",
    "])\n",
    "\n",
    "# Kompilasi model\n",
    "model.compile(optimizer='adam', loss='categorical_crossentropy', metrics=['accuracy'])\n",
    "# Training model\n",
    "model.fit(train_generator, validation_data=val_generator, epochs=10)\n",
    "# Simpan model\n",
    "model.save('cnn_model.h5')"
   ]
  }
 ],
 "metadata": {
  "kernelspec": {
   "display_name": "Python 3",
   "language": "python",
   "name": "python3"
  },
  "language_info": {
   "codemirror_mode": {
    "name": "ipython",
    "version": 3
   },
   "file_extension": ".py",
   "mimetype": "text/x-python",
   "name": "python",
   "nbconvert_exporter": "python",
   "pygments_lexer": "ipython3",
   "version": "3.11.6"
  }
 },
 "nbformat": 4,
 "nbformat_minor": 2
}
